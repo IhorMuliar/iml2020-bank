{
 "cells": [
  {
   "cell_type": "code",
   "execution_count": 40,
   "metadata": {},
   "outputs": [],
   "source": [
    "import pandas as pd\n",
    "import numpy as np\n",
    "\n",
    "from sklearn.model_selection import train_test_split\n",
    "\n",
    "from sklearn.ensemble import RandomForestClassifier\n",
    "import xgboost as xgb\n",
    "from xgboost.sklearn import XGBClassifier\n",
    "from sklearn.linear_model import LogisticRegression\n",
    "\n",
    "from sklearn.metrics import f1_score as f1\n",
    "from sklearn.metrics import accuracy_score\n",
    "from sklearn.model_selection import cross_val_score\n",
    "from sklearn.metrics import roc_auc_score\n",
    "from sklearn.metrics import mean_absolute_error\n",
    "\n",
    "from imblearn.over_sampling import SMOTE\n",
    "from imblearn.under_sampling import RandomUnderSampler\n",
    "from imblearn.pipeline import Pipeline\n",
    "from sklearn.model_selection import RepeatedStratifiedKFold\n",
    "from imblearn.combine import SMOTEENN\n",
    "from sklearn.ensemble import IsolationForest\n",
    "from sklearn.preprocessing import MinMaxScaler\n",
    "from sklearn.preprocessing import StandardScaler\n",
    "\n",
    "from sklearn.model_selection import GridSearchCV\n",
    "from sklearn.model_selection import RandomizedSearchCV\n",
    "\n",
    "import matplotlib.pyplot as plt\n",
    "import plotly.express as ex\n",
    "import plotly.graph_objs as go\n",
    "import seaborn as sns\n",
    "from plotly.subplots import make_subplots\n",
    "\n",
    "sns.set_style('darkgrid')\n",
    "%matplotlib inline"
   ]
  },
  {
   "cell_type": "code",
   "execution_count": 2,
   "metadata": {},
   "outputs": [],
   "source": [
    "train = pd.read_csv('train.csv')\n",
    "test = pd.read_csv('test.csv')"
   ]
  },
  {
   "cell_type": "code",
   "execution_count": 3,
   "metadata": {},
   "outputs": [
    {
     "name": "stdout",
     "output_type": "stream",
     "text": [
      "The shape of train dataset: (112500, 11)\n",
      "The shape of test dataset: (37500, 10)\n"
     ]
    }
   ],
   "source": [
    "print('The shape of train dataset: {}'.format(train.shape))\n",
    "print('The shape of test dataset: {}'.format(test.shape))"
   ]
  },
  {
   "cell_type": "code",
   "execution_count": 4,
   "metadata": {},
   "outputs": [],
   "source": [
    "columns_list = ['bad_client', 'lines', 'age', 'behavior_30_59', 'debt_ratio', 'income', 'trusts_number', 'behavior_90', 'property', 'behavior_60_89', 'family']\n",
    "train.columns = columns_list"
   ]
  },
  {
   "cell_type": "code",
   "execution_count": 5,
   "metadata": {},
   "outputs": [],
   "source": [
    "columns_list = ['lines', 'age', 'behavior_30_59', 'debt_ratio', 'income', 'trusts_number', 'behavior_90', 'property', 'behavior_60_89', 'family']\n",
    "test.columns = columns_list"
   ]
  },
  {
   "cell_type": "markdown",
   "metadata": {},
   "source": [
    "<h1>Train dataset</h1>"
   ]
  },
  {
   "cell_type": "code",
   "execution_count": null,
   "metadata": {},
   "outputs": [],
   "source": [
    "train.head()"
   ]
  },
  {
   "cell_type": "code",
   "execution_count": null,
   "metadata": {},
   "outputs": [],
   "source": [
    "train.info()"
   ]
  },
  {
   "cell_type": "code",
   "execution_count": null,
   "metadata": {},
   "outputs": [],
   "source": [
    "train.describe()"
   ]
  },
  {
   "cell_type": "code",
   "execution_count": null,
   "metadata": {},
   "outputs": [],
   "source": [
    "ex.pie(train, names='bad_client', title='Propotion Of bad client', height=500, width=500)"
   ]
  },
  {
   "cell_type": "code",
   "execution_count": null,
   "metadata": {},
   "outputs": [],
   "source": [
    "fig = make_subplots(rows = 2, cols = 1)\n",
    "\n",
    "tr1 = go.Box(x = train.lines, name = 'Lines Box Plot', boxmean=True)\n",
    "tr2 = go.Histogram(x = train.lines, name = 'Lines Histogram')\n",
    "\n",
    "fig.add_trace(tr1, row = 1, col = 1)\n",
    "fig.add_trace(tr2, row = 2, col = 1)\n",
    "\n",
    "fig.update_layout(height = 500, width = 1000, title_text = \"Distribution of lines\")\n",
    "fig.show()"
   ]
  },
  {
   "cell_type": "code",
   "execution_count": null,
   "metadata": {},
   "outputs": [],
   "source": [
    "fig = make_subplots(rows = 2, cols = 1)\n",
    "\n",
    "tr1 = go.Box(x = train.age, name = 'Age Box Plot', boxmean=True)\n",
    "tr2 = go.Histogram(x = train.age, name = 'Age Histogram')\n",
    "\n",
    "fig.add_trace(tr1, row = 1, col = 1)\n",
    "fig.add_trace(tr2, row = 2, col = 1)\n",
    "\n",
    "fig.update_layout(height = 500, width = 1000, title_text = \"Distribution of the customers age\")\n",
    "fig.show()"
   ]
  },
  {
   "cell_type": "code",
   "execution_count": null,
   "metadata": {},
   "outputs": [],
   "source": [
    "fig = make_subplots(rows = 2, cols = 1)\n",
    "\n",
    "tr1 = go.Box(x = train.behavior_30_59 , name = 'behavior 30 - 59  Box Plot', boxmean=True)\n",
    "tr2 = go.Histogram(x = train.behavior_30_59 , name = 'behavior 30 - 59  Histogram')\n",
    "\n",
    "fig.add_trace(tr1, row = 1, col = 1)\n",
    "fig.add_trace(tr2, row = 2, col = 1)\n",
    "\n",
    "fig.update_layout(height = 500, width = 1000, title_text = \"Distribution of the behavior 30 - 59\")\n",
    "fig.show()"
   ]
  },
  {
   "cell_type": "code",
   "execution_count": null,
   "metadata": {},
   "outputs": [],
   "source": [
    "fig = make_subplots(rows = 2, cols = 1)\n",
    "\n",
    "tr1 = go.Box(x = train.debt_ratio, name = 'debt_ratio Box Plot', boxmean=True)\n",
    "tr2 = go.Histogram(x = train.debt_ratio , name = 'debt_ratio Histogram')\n",
    "\n",
    "fig.add_trace(tr1, row = 1, col = 1)\n",
    "fig.add_trace(tr2, row = 2, col = 1)\n",
    "\n",
    "fig.update_layout(height = 500, width = 1000, title_text = \"Distribution of the debt_ratio\")\n",
    "fig.show()"
   ]
  },
  {
   "cell_type": "code",
   "execution_count": null,
   "metadata": {},
   "outputs": [],
   "source": [
    "fig = make_subplots(rows = 2, cols = 1)\n",
    "\n",
    "tr1 = go.Box(x = train.income, name = 'income Box Plot', boxmean=True)\n",
    "tr2 = go.Histogram(x = train.income , name = 'income Histogram')\n",
    "\n",
    "fig.add_trace(tr1, row = 1, col = 1)\n",
    "fig.add_trace(tr2, row = 2, col = 1)\n",
    "\n",
    "fig.update_layout(height = 500, width = 1000, title_text = \"Distribution of the income\")\n",
    "fig.show()"
   ]
  },
  {
   "cell_type": "code",
   "execution_count": null,
   "metadata": {},
   "outputs": [],
   "source": [
    "fig = make_subplots(rows = 2, cols = 1)\n",
    "\n",
    "tr1 = go.Box(x = train.trusts_number, name = 'trusts number Box Plot', boxmean=True)\n",
    "tr2 = go.Histogram(x = train.trusts_number , name = 'trusts number Histogram')\n",
    "\n",
    "fig.add_trace(tr1, row = 1, col = 1)\n",
    "fig.add_trace(tr2, row = 2, col = 1)\n",
    "\n",
    "fig.update_layout(height = 500, width = 1000, title_text = \"Distribution of the trusts number\")\n",
    "fig.show()"
   ]
  },
  {
   "cell_type": "code",
   "execution_count": null,
   "metadata": {},
   "outputs": [],
   "source": [
    "fig = make_subplots(rows = 2, cols = 1)\n",
    "\n",
    "tr1 = go.Box(x = train.behavior_90, name = 'behavior 90 Box Plot', boxmean=True)\n",
    "tr2 = go.Histogram(x = train.behavior_90 , name = 'behavior 90 Histogram')\n",
    "\n",
    "fig.add_trace(tr1, row = 1, col = 1)\n",
    "fig.add_trace(tr2, row = 2, col = 1)\n",
    "\n",
    "fig.update_layout(height = 500, width = 1000, title_text = \"Distribution of the behavior 90\")\n",
    "fig.show()"
   ]
  },
  {
   "cell_type": "code",
   "execution_count": null,
   "metadata": {},
   "outputs": [],
   "source": [
    "fig = make_subplots(rows = 2, cols = 1)\n",
    "\n",
    "tr1 = go.Box(x = train.property, name = 'property Box Plot', boxmean=True)\n",
    "tr2 = go.Histogram(x = train.property , name = 'property Histogram')\n",
    "\n",
    "fig.add_trace(tr1, row = 1, col = 1)\n",
    "fig.add_trace(tr2, row = 2, col = 1)\n",
    "\n",
    "fig.update_layout(height = 500, width = 1000, title_text = \"Distribution of the property\")\n",
    "fig.show()"
   ]
  },
  {
   "cell_type": "code",
   "execution_count": null,
   "metadata": {},
   "outputs": [],
   "source": [
    "fig = make_subplots(rows = 2, cols = 1)\n",
    "\n",
    "tr1 = go.Box(x = train.family, name = 'family Box Plot', boxmean=True)\n",
    "tr2 = go.Histogram(x = train.family , name = 'family Histogram')\n",
    "\n",
    "fig.add_trace(tr1, row = 1, col = 1)\n",
    "fig.add_trace(tr2, row = 2, col = 1)\n",
    "\n",
    "fig.update_layout(height = 500, width = 1000, title_text = \"Distribution of the family members\")\n",
    "fig.show()"
   ]
  },
  {
   "cell_type": "code",
   "execution_count": null,
   "metadata": {},
   "outputs": [],
   "source": [
    "ex.pie(train, names = 'family', title='Propotion Of family member', height=500, width=500)"
   ]
  },
  {
   "cell_type": "code",
   "execution_count": 6,
   "metadata": {},
   "outputs": [],
   "source": [
    "train.family = train.family.fillna(0)"
   ]
  },
  {
   "cell_type": "code",
   "execution_count": 7,
   "metadata": {},
   "outputs": [],
   "source": [
    "train.income = train.income.fillna(train.income.mean())"
   ]
  },
  {
   "cell_type": "code",
   "execution_count": 8,
   "metadata": {
    "collapsed": true
   },
   "outputs": [
    {
     "data": {
      "text/plain": [
       "bad_client        0\n",
       "lines             0\n",
       "age               0\n",
       "behavior_30_59    0\n",
       "debt_ratio        0\n",
       "income            0\n",
       "trusts_number     0\n",
       "behavior_90       0\n",
       "property          0\n",
       "behavior_60_89    0\n",
       "family            0\n",
       "dtype: int64"
      ]
     },
     "execution_count": 8,
     "metadata": {},
     "output_type": "execute_result"
    }
   ],
   "source": [
    "train.isnull().sum()"
   ]
  },
  {
   "cell_type": "markdown",
   "metadata": {},
   "source": [
    "<h1>Test dataset</h1>"
   ]
  },
  {
   "cell_type": "code",
   "execution_count": 9,
   "metadata": {},
   "outputs": [],
   "source": [
    "test.family = test.family.fillna(0)\n",
    "test.income = test.income.fillna(test.income.mean())"
   ]
  },
  {
   "cell_type": "code",
   "execution_count": 10,
   "metadata": {
    "collapsed": true
   },
   "outputs": [
    {
     "data": {
      "text/plain": [
       "lines             0\n",
       "age               0\n",
       "behavior_30_59    0\n",
       "debt_ratio        0\n",
       "income            0\n",
       "trusts_number     0\n",
       "behavior_90       0\n",
       "property          0\n",
       "behavior_60_89    0\n",
       "family            0\n",
       "dtype: int64"
      ]
     },
     "execution_count": 10,
     "metadata": {},
     "output_type": "execute_result"
    }
   ],
   "source": [
    "test.isnull().sum()"
   ]
  },
  {
   "cell_type": "markdown",
   "metadata": {},
   "source": [
    "<h3>Data spliting</h3>"
   ]
  },
  {
   "cell_type": "code",
   "execution_count": 11,
   "metadata": {},
   "outputs": [],
   "source": [
    "X, y = train.drop(columns = 'bad_client', axis=1), train.bad_client\n",
    "\n",
    "X_train, X_test, y_train, y_test = train_test_split(X, y, random_state=0)"
   ]
  },
  {
   "cell_type": "markdown",
   "metadata": {},
   "source": [
    "<h2>Modeling without data preparation data and tuning hyperparametrs</h2>"
   ]
  },
  {
   "cell_type": "code",
   "execution_count": 12,
   "metadata": {},
   "outputs": [],
   "source": [
    "clf = RandomForestClassifier(random_state=0, n_jobs=2)"
   ]
  },
  {
   "cell_type": "code",
   "execution_count": 13,
   "metadata": {},
   "outputs": [],
   "source": [
    "f1_cross_val_scores = cross_val_score(clf, X_train, y_train, cv=5, scoring='f1')\n",
    "accuracy_cross_val_scores = cross_val_score(clf, X_train, y_train, cv=5, scoring='accuracy')\n",
    "roc_auc_cross_val_scores = cross_val_score(clf, X_train, y_train, cv=5, scoring='roc_auc')"
   ]
  },
  {
   "cell_type": "code",
   "execution_count": 14,
   "metadata": {},
   "outputs": [
    {
     "name": "stdout",
     "output_type": "stream",
     "text": [
      "The f1 score on cross validation: 0.2761538766738747\n",
      "The accuracy score on cross validation: 0.9344118518518517\n",
      "The roc_auc on cross validation: 0.8370871880766406\n"
     ]
    }
   ],
   "source": [
    "print('The f1 score on cross validation: {}'.format(f1_cross_val_scores.mean()))\n",
    "print('The accuracy score on cross validation: {}'.format(accuracy_cross_val_scores.mean()))\n",
    "print('The roc_auc on cross validation: {}'.format(roc_auc_cross_val_scores.mean()))"
   ]
  },
  {
   "cell_type": "code",
   "execution_count": 15,
   "metadata": {
    "collapsed": true
   },
   "outputs": [
    {
     "data": {
      "image/png": "[encoded data removed]",
      "text/plain": [
       "<Figure size 432x288 with 1 Axes>"
      ]
     },
     "metadata": {
      "needs_background": "light"
     },
     "output_type": "display_data"
    },
    {
     "data": {
      "image/png": "[encoded data removed]",
      "text/plain": [
       "<Figure size 432x288 with 1 Axes>"
      ]
     },
     "metadata": {
      "needs_background": "light"
     },
     "output_type": "display_data"
    },
    {
     "data": {
      "image/png": "[encoded data removed]",
      "text/plain": [
       "<Figure size 432x288 with 1 Axes>"
      ]
     },
     "metadata": {
      "needs_background": "light"
     },
     "output_type": "display_data"
    }
   ],
   "source": [
    "plt.subplot(1, 1, 1)\n",
    "ax = sns.lineplot(x=range(0, len(f1_cross_val_scores)), y=f1_cross_val_scores)\n",
    "ax.set_title('Random Forest Cross Val Scores')\n",
    "ax.set_xticks([i for i in range(0,len(f1_cross_val_scores))])\n",
    "ax.set_xlabel('Fold Number')\n",
    "ax.set_ylabel('F1 Score')\n",
    "plt.show()\n",
    "\n",
    "plt.subplot(2, 1, 1)\n",
    "ax = sns.lineplot(x=range(0, len(accuracy_cross_val_scores)), y=accuracy_cross_val_scores)\n",
    "ax.set_title('Random Forest Cross Val Scores')\n",
    "ax.set_xticks([i for i in range(0,len(accuracy_cross_val_scores))])\n",
    "ax.set_xlabel('Fold Number')\n",
    "ax.set_ylabel('Accuracy Score')\n",
    "plt.show()\n",
    "\n",
    "plt.subplot(3, 1, 1)\n",
    "ax = sns.lineplot(x=range(0, len(roc_auc_cross_val_scores)), y=roc_auc_cross_val_scores)\n",
    "ax.set_title('Random Forest Cross Val Scores')\n",
    "ax.set_xticks([i for i in range(0,len(roc_auc_cross_val_scores))])\n",
    "ax.set_xlabel('Fold Number')\n",
    "ax.set_ylabel('Roc_auc Score')\n",
    "plt.show()"
   ]
  },
  {
   "cell_type": "markdown",
   "metadata": {},
   "source": [
    "<h1>Data preparation</h1>"
   ]
  },
  {
   "cell_type": "markdown",
   "metadata": {},
   "source": [
    "<h4>Oversampling and undersampling</h4>"
   ]
  },
  {
   "cell_type": "code",
   "execution_count": 16,
   "metadata": {
    "collapsed": true
   },
   "outputs": [
    {
     "data": {
      "text/plain": [
       "<matplotlib.axes._subplots.AxesSubplot at 0x1a75eb396d0>"
      ]
     },
     "execution_count": 16,
     "metadata": {},
     "output_type": "execute_result"
    },
    {
     "data": {
      "image/png": "[encoded data removed]",
      "text/plain": [
       "<Figure size 432x288 with 1 Axes>"
      ]
     },
     "metadata": {
      "needs_background": "light"
     },
     "output_type": "display_data"
    }
   ],
   "source": [
    "train.bad_client.hist()"
   ]
  },
  {
   "cell_type": "code",
   "execution_count": 17,
   "metadata": {},
   "outputs": [],
   "source": [
    "over = SMOTE(sampling_strategy=0.1)\n",
    "under = RandomUnderSampler(sampling_strategy=0.5)\n",
    "\n",
    "steps = [('o', over), ('u', under)]\n",
    "pipeline = Pipeline(steps = steps)\n",
    "\n",
    "X_res, y_res = pipeline.fit_resample(X, y)"
   ]
  },
  {
   "cell_type": "code",
   "execution_count": 18,
   "metadata": {
    "collapsed": true
   },
   "outputs": [
    {
     "data": {
      "text/plain": [
       "<matplotlib.axes._subplots.AxesSubplot at 0x1a75ecb2070>"
      ]
     },
     "execution_count": 18,
     "metadata": {},
     "output_type": "execute_result"
    },
    {
     "data": {
      "image/png": "[encoded data removed]",
      "text/plain": [
       "<Figure size 432x288 with 1 Axes>"
      ]
     },
     "metadata": {
      "needs_background": "light"
     },
     "output_type": "display_data"
    }
   ],
   "source": [
    "y_res.hist()"
   ]
  },
  {
   "cell_type": "code",
   "execution_count": null,
   "metadata": {},
   "outputs": [],
   "source": [
    "res = SMOTEENN()\n",
    "\n",
    "steps = [('res', res)]\n",
    "pipeline = Pipeline(steps = steps)\n",
    "\n",
    "X_res_teenn, y_res_teenn = pipeline.fit_resample(X, y)"
   ]
  },
  {
   "cell_type": "code",
   "execution_count": null,
   "metadata": {},
   "outputs": [],
   "source": [
    "y_res_teenn.hist()"
   ]
  },
  {
   "cell_type": "code",
   "execution_count": null,
   "metadata": {},
   "outputs": [],
   "source": [
    "model = RandomForestClassifier()\n",
    "over = SMOTE(sampling_strategy=0.1)\n",
    "under = RandomUnderSampler(sampling_strategy=0.5)\n",
    "steps = [('over', over), ('under', under), ('model', model)]\n",
    "pipeline = Pipeline(steps=steps)\n",
    "cv = RepeatedStratifiedKFold(n_splits=10, n_repeats=3, random_state=1)\n",
    "scores = cross_val_score(pipeline, X, y, scoring='roc_auc', cv=cv, n_jobs=2)\n",
    "print('Mean ROC AUC: %.3f' % scores.mean())"
   ]
  },
  {
   "cell_type": "code",
   "execution_count": null,
   "metadata": {},
   "outputs": [],
   "source": [
    "model = RandomForestClassifier()\n",
    "res = SMOTEENN()\n",
    "steps = [('res', res), ('model', model)]\n",
    "pipeline = Pipeline(steps=steps)\n",
    "cv = RepeatedStratifiedKFold(n_splits=10, n_repeats=3, random_state=1)\n",
    "scores = cross_val_score(pipeline, X, y, scoring='roc_auc', cv=cv, n_jobs=2)\n",
    "print('Mean ROC AUC: %.3f' % scores.mean())"
   ]
  },
  {
   "cell_type": "markdown",
   "metadata": {},
   "source": [
    "<h4>Outlier detection</h4>"
   ]
  },
  {
   "cell_type": "code",
   "execution_count": 19,
   "metadata": {},
   "outputs": [],
   "source": [
    "X_train_res, X_test_res, y_train_res, y_test_res = train_test_split(X_res, y_res, random_state=0)"
   ]
  },
  {
   "cell_type": "code",
   "execution_count": 20,
   "metadata": {},
   "outputs": [
    {
     "name": "stdout",
     "output_type": "stream",
     "text": [
      "(23613, 10) (23613,)\n"
     ]
    }
   ],
   "source": [
    "print(X_train_res.shape, y_train_res.shape)"
   ]
  },
  {
   "cell_type": "code",
   "execution_count": null,
   "metadata": {},
   "outputs": [],
   "source": [
    "model = RandomForestClassifier(random_state=0, n_jobs=2)\n",
    "model.fit(X_train_res, y_train_res)\n",
    "yhat = model.predict(X_test_res)\n",
    "mae = mean_absolute_error(y_test_res, yhat)\n",
    "print('MAE: %.3f' % mae)"
   ]
  },
  {
   "cell_type": "code",
   "execution_count": null,
   "metadata": {},
   "outputs": [],
   "source": [
    "iso = IsolationForest(contamination=0.1)\n",
    "yhat = iso.fit_predict(X_train_res)\n",
    "\n",
    "mask = yhat != -1\n",
    "X_train_res, y_train_res = X_train_res.iloc[mask, :], y_train_res.iloc[mask]\n",
    "\n",
    "print(X_train_res.shape, y_train_res.shape)"
   ]
  },
  {
   "cell_type": "code",
   "execution_count": null,
   "metadata": {},
   "outputs": [],
   "source": [
    "model = RandomForestClassifier(random_state=0, n_jobs=2)\n",
    "model.fit(X_train_res, y_train_res)\n",
    "yhat = model.predict(X_test_res)\n",
    "mae = mean_absolute_error(y_test_res, yhat)\n",
    "print('MAE: %.3f' % mae)"
   ]
  },
  {
   "cell_type": "code",
   "execution_count": 21,
   "metadata": {},
   "outputs": [
    {
     "name": "stdout",
     "output_type": "stream",
     "text": [
      "Before: (31485, 10)\n",
      "After: (28336, 10)\n"
     ]
    }
   ],
   "source": [
    "iso = IsolationForest(contamination=0.1)\n",
    "yhat = iso.fit_predict(X_res)\n",
    "\n",
    "mask = yhat != -1\n",
    "\n",
    "print('Before: {}'.format(X_res.shape, X_res.shape))\n",
    "X_res, y_res = X_res.iloc[mask, :], y_res.iloc[mask]\n",
    "print('After: {}'.format(X_res.shape, X_res.shape))"
   ]
  },
  {
   "cell_type": "markdown",
   "metadata": {},
   "source": [
    "<h4>Normalization</h4>"
   ]
  },
  {
   "cell_type": "code",
   "execution_count": null,
   "metadata": {
    "hide_input": false
   },
   "outputs": [],
   "source": [
    "cv = RepeatedStratifiedKFold(n_splits=10, n_repeats=3, random_state=1)\n",
    "n_scores = cross_val_score(RandomForestClassifier(random_state=0, n_jobs=2), X_res, y_res, scoring='accuracy', cv=cv, n_jobs=2, error_score='raise')\n",
    "print('Accuracy: %.3f (%.3f)' % (n_scores.mean(), np.std(n_scores)))"
   ]
  },
  {
   "cell_type": "code",
   "execution_count": null,
   "metadata": {
    "hide_input": false
   },
   "outputs": [],
   "source": [
    "trans = MinMaxScaler()\n",
    "model = RandomForestClassifier(random_state=0, n_jobs=2)\n",
    "pipeline = Pipeline(steps=[('t', trans), ('m', model)])\n",
    "cv = RepeatedStratifiedKFold(n_splits=10, n_repeats=3, random_state=1)\n",
    "n_scores = cross_val_score(pipeline, X_res, y_res, scoring='accuracy', cv=cv, n_jobs=-1, error_score='raise')\n",
    "# report pipeline performance\n",
    "print('Accuracy: %.3f (%.3f)' % (n_scores.mean(), np.std(n_scores)))"
   ]
  },
  {
   "cell_type": "code",
   "execution_count": null,
   "metadata": {},
   "outputs": [],
   "source": [
    "trans = StandardScaler()\n",
    "model = RandomForestClassifier(random_state=0, n_jobs=2)\n",
    "pipeline = Pipeline(steps=[('t', trans), ('m', model)])\n",
    "# evaluate the pipeline\n",
    "cv = RepeatedStratifiedKFold(n_splits=10, n_repeats=3, random_state=1)\n",
    "n_scores = cross_val_score(pipeline, X_res, y_res, scoring='accuracy', cv=cv, n_jobs=-1, error_score='raise')\n",
    "# report pipeline performance\n",
    "print('Accuracy: %.3f (%.3f)' % (n_scores.mean(), np.std(n_scores)))"
   ]
  },
  {
   "cell_type": "code",
   "execution_count": 26,
   "metadata": {},
   "outputs": [],
   "source": [
    "trans = StandardScaler()\n",
    "\n",
    "X_res_trans = trans.fit_transform(X_res)\n",
    "test_trans = trans.fit_transform(test)\n",
    "\n",
    "X_res_trans = pd.DataFrame(X_res_trans)\n",
    "test_trans = pd.DataFrame(test_trans)"
   ]
  },
  {
   "cell_type": "markdown",
   "metadata": {},
   "source": [
    "<h1>Modeling w/ preparated data</h1>"
   ]
  },
  {
   "cell_type": "code",
   "execution_count": 22,
   "metadata": {},
   "outputs": [],
   "source": [
    "pipe_pre = Pipeline(steps =[(\"RF\", RandomForestClassifier(n_jobs=2, random_state=0))])\n",
    "pipe_after = Pipeline(steps =[('scale', StandardScaler()), (\"RF\", RandomForestClassifier(n_jobs=2, random_state=0)) ])"
   ]
  },
  {
   "cell_type": "code",
   "execution_count": 23,
   "metadata": {},
   "outputs": [
    {
     "name": "stdout",
     "output_type": "stream",
     "text": [
      "Before mean ROC AUC: 0.838\n",
      "After mean ROC AUC: 0.856\n"
     ]
    }
   ],
   "source": [
    "cv = RepeatedStratifiedKFold(n_splits=10, n_repeats=3, random_state=1)\n",
    "\n",
    "scores_pre = cross_val_score(pipe_pre, X, y, scoring='roc_auc', cv=cv, n_jobs=2)\n",
    "scores_after = cross_val_score(pipe_after, X_res, y_res, scoring='roc_auc', cv=cv, n_jobs=2)\n",
    "\n",
    "print('Before mean ROC AUC: %.3f' % scores_pre.mean())\n",
    "print('After mean ROC AUC: %.3f' % scores_after.mean())"
   ]
  },
  {
   "cell_type": "markdown",
   "metadata": {},
   "source": [
    "<h1>Tuning hyperparametrs</h1>"
   ]
  },
  {
   "cell_type": "markdown",
   "metadata": {},
   "source": [
    "<h4>RandomForest</h4>"
   ]
  },
  {
   "cell_type": "code",
   "execution_count": null,
   "metadata": {},
   "outputs": [],
   "source": [
    "model = RandomForestClassifier(random_state=0, n_jobs=2)\n",
    "\n",
    "n_estimators = [100, 150, 180, 200]\n",
    "max_features = ['sqrt', 'log2', 'auto']\n",
    "max_depth = [2, 4, 6, 8]\n",
    "\n",
    "grid = dict(n_estimators=n_estimators, \n",
    "            max_features=max_features, \n",
    "            max_depth = max_depth, \n",
    "           )\n",
    "\n",
    "cv = RepeatedStratifiedKFold(n_splits=10, n_repeats=3, random_state=1)\n",
    "\n",
    "grid_search = GridSearchCV(estimator=model, param_grid=grid, n_jobs=2, cv=cv, scoring='roc_auc',error_score=0)\n",
    "grid_result = grid_search.fit(X_res, y_res)\n",
    "\n",
    "print(\"Best: %f using %s\" % (grid_result.best_score_, grid_result.best_params_))\n",
    "means = grid_result.cv_results_['mean_test_score']\n",
    "stds = grid_result.cv_results_['std_test_score']\n",
    "params = grid_result.cv_results_['params']\n",
    "for mean, stdev, param in zip(means, stds, params):\n",
    "    print(\"%f (%f) with: %r\" % (mean, stdev, param))"
   ]
  },
  {
   "cell_type": "code",
   "execution_count": null,
   "metadata": {},
   "outputs": [],
   "source": [
    "best_est = grid_result.best_estimator_"
   ]
  },
  {
   "cell_type": "code",
   "execution_count": null,
   "metadata": {},
   "outputs": [],
   "source": [
    "result = best_est.predict_proba(test)[:, 1]"
   ]
  },
  {
   "cell_type": "code",
   "execution_count": null,
   "metadata": {},
   "outputs": [],
   "source": [
    "pd.DataFrame({'id': np.arange(37500), 'a' : result}).to_csv('solution.csv', index=False)"
   ]
  },
  {
   "cell_type": "markdown",
   "metadata": {},
   "source": [
    "<h4>XGBoost</h4>"
   ]
  },
  {
   "cell_type": "code",
   "execution_count": 35,
   "metadata": {
    "collapsed": true
   },
   "outputs": [
    {
     "name": "stdout",
     "output_type": "stream",
     "text": [
      "Best: 0.820618 using {'subsample': 1, 'scale_pos_weight': 1, 'reg_lambda': 1.5, 'reg_alpha': 1, 'n_estimators': 150, 'min_child_weight': 4, 'max_depth': 5, 'learning_rate': 0.2, 'gamma': 0.4, 'colsample_bytree': 0.2}\n",
      "0.820618 (0.031808) with: {'subsample': 1, 'scale_pos_weight': 1, 'reg_lambda': 1.5, 'reg_alpha': 1, 'n_estimators': 150, 'min_child_weight': 4, 'max_depth': 5, 'learning_rate': 0.2, 'gamma': 0.4, 'colsample_bytree': 0.2}\n",
      "0.707933 (0.000050) with: {'subsample': 0.2, 'scale_pos_weight': 0.001, 'reg_lambda': 1, 'reg_alpha': 0, 'n_estimators': 150, 'min_child_weight': 2, 'max_depth': 5, 'learning_rate': 0.2, 'gamma': 0, 'colsample_bytree': 1}\n",
      "0.807525 (0.041534) with: {'subsample': 1, 'scale_pos_weight': 0.5, 'reg_lambda': 1.2, 'reg_alpha': 0.005, 'n_estimators': 200, 'min_child_weight': 4, 'max_depth': 3, 'learning_rate': 0.2, 'gamma': 0, 'colsample_bytree': 0.6}\n",
      "0.707933 (0.000050) with: {'subsample': 1, 'scale_pos_weight': 0.001, 'reg_lambda': 1, 'reg_alpha': 1, 'n_estimators': 150, 'min_child_weight': 9, 'max_depth': 5, 'learning_rate': 0.3, 'gamma': 1, 'colsample_bytree': 0.6}\n",
      "0.707933 (0.000050) with: {'subsample': 0.8, 'scale_pos_weight': 0, 'reg_lambda': 1.5, 'reg_alpha': 0.001, 'n_estimators': 100, 'min_child_weight': 6, 'max_depth': 6, 'learning_rate': 0.3, 'gamma': 0, 'colsample_bytree': 0.6}\n",
      "0.707933 (0.000050) with: {'subsample': 0.2, 'scale_pos_weight': 0, 'reg_lambda': 1.5, 'reg_alpha': 0.1, 'n_estimators': 150, 'min_child_weight': 4, 'max_depth': 3, 'learning_rate': 0.3, 'gamma': 1, 'colsample_bytree': 0.6}\n",
      "0.707933 (0.000050) with: {'subsample': 0.5, 'scale_pos_weight': 0, 'reg_lambda': 1.8, 'reg_alpha': 0.001, 'n_estimators': 150, 'min_child_weight': 6, 'max_depth': 5, 'learning_rate': 0.2, 'gamma': 0.4, 'colsample_bytree': 0.8}\n",
      "0.707933 (0.000050) with: {'subsample': 0.2, 'scale_pos_weight': 0, 'reg_lambda': 1.8, 'reg_alpha': 0.005, 'n_estimators': 100, 'min_child_weight': 6, 'max_depth': 3, 'learning_rate': 0.3, 'gamma': 0.4, 'colsample_bytree': 0.6}\n",
      "0.707933 (0.000050) with: {'subsample': 0.8, 'scale_pos_weight': 0.001, 'reg_lambda': 1.8, 'reg_alpha': 0, 'n_estimators': 150, 'min_child_weight': 6, 'max_depth': 8, 'learning_rate': 0.05, 'gamma': 0.6, 'colsample_bytree': 1}\n",
      "0.707933 (0.000050) with: {'subsample': 0.8, 'scale_pos_weight': 0, 'reg_lambda': 2, 'reg_alpha': 1, 'n_estimators': 150, 'min_child_weight': 6, 'max_depth': 6, 'learning_rate': 0.05, 'gamma': 1, 'colsample_bytree': 0.5}\n"
     ]
    }
   ],
   "source": [
    "xgb = XGBClassifier(n_jobs = 2) \n",
    " \n",
    "param_grid = {\n",
    "                  'n_estimators'     : [100, 150, 200],\n",
    "                  \"learning_rate\"    : [0.05, 0.1, 0.2, 0.3],\n",
    "                  \"gamma\"            : [0.0, 0.1, 0.2 , 0.3, 0.4, 0.5],\n",
    "                  \"colsample_bytree\" : [0.2, 0.4, 0.5, 0.6, 0.8, 1],\n",
    "                  'max_depth'        : [3, 5, 6, 8],\n",
    "                  'gamma'            : [0, 0.2, 0.4, 0.6, 1],\n",
    "                  'min_child_weight' : [2, 4, 6, 9],\n",
    "                  'subsample'        : [0.2, 0.5, 0.8, 1],\n",
    "                  'reg_alpha'        : [0, 0.001, 0.005, 0.1, 0.5, 1],\n",
    "                  'reg_lambda'       : [1, 1.2, 1.5, 1.8, 2],\n",
    "                  'scale_pos_weight' : [0, 0.001, 0.5, 1]\n",
    "              }\n",
    "\n",
    "xgb_randomgrid = RandomizedSearchCV(xgb, param_distributions = param_grid)\n",
    "\n",
    "xgb_result = xgb_randomgrid.fit(X_res_trans, y_res)\n",
    "\n",
    "print(\"Best: %f using %s\" % (xgb_result.best_score_, xgb_result.best_params_))\n",
    "means = xgb_result.cv_results_['mean_test_score']\n",
    "stds = xgb_result.cv_results_['std_test_score']\n",
    "params = xgb_result.cv_results_['params']\n",
    "for mean, stdev, param in zip(means, stds, params):\n",
    "    print(\"%f (%f) with: %r\" % (mean, stdev, param))"
   ]
  },
  {
   "cell_type": "code",
   "execution_count": 37,
   "metadata": {},
   "outputs": [],
   "source": [
    "best_est = xgb_randomgrid.best_estimator_"
   ]
  },
  {
   "cell_type": "code",
   "execution_count": 38,
   "metadata": {},
   "outputs": [],
   "source": [
    "result = best_est.predict_proba(test_trans)[:, 1]"
   ]
  },
  {
   "cell_type": "code",
   "execution_count": 39,
   "metadata": {},
   "outputs": [],
   "source": [
    "pd.DataFrame({'id': np.arange(37500), 'a' : result}).to_csv('solution.csv', index=False)"
   ]
  },
  {
   "cell_type": "markdown",
   "metadata": {},
   "source": [
    "<h4>LogisticRegression</h4>"
   ]
  },
  {
   "cell_type": "code",
   "execution_count": 46,
   "metadata": {
    "collapsed": true
   },
   "outputs": [
    {
     "name": "stderr",
     "output_type": "stream",
     "text": [
      "E:\\Data Science\\Anaconda\\lib\\site-packages\\sklearn\\linear_model\\_logistic.py:1353: UserWarning: 'n_jobs' > 1 does not have any effect when 'solver' is set to 'liblinear'. Got 'n_jobs' = 4.\n",
      "  warnings.warn(\"'n_jobs' > 1 does not have any effect when\"\n",
      "E:\\Data Science\\Anaconda\\lib\\site-packages\\sklearn\\linear_model\\_logistic.py:1353: UserWarning: 'n_jobs' > 1 does not have any effect when 'solver' is set to 'liblinear'. Got 'n_jobs' = 4.\n",
      "  warnings.warn(\"'n_jobs' > 1 does not have any effect when\"\n",
      "E:\\Data Science\\Anaconda\\lib\\site-packages\\sklearn\\linear_model\\_logistic.py:1353: UserWarning: 'n_jobs' > 1 does not have any effect when 'solver' is set to 'liblinear'. Got 'n_jobs' = 4.\n",
      "  warnings.warn(\"'n_jobs' > 1 does not have any effect when\"\n",
      "E:\\Data Science\\Anaconda\\lib\\site-packages\\sklearn\\linear_model\\_logistic.py:1353: UserWarning: 'n_jobs' > 1 does not have any effect when 'solver' is set to 'liblinear'. Got 'n_jobs' = 4.\n",
      "  warnings.warn(\"'n_jobs' > 1 does not have any effect when\"\n",
      "E:\\Data Science\\Anaconda\\lib\\site-packages\\sklearn\\linear_model\\_logistic.py:1353: UserWarning: 'n_jobs' > 1 does not have any effect when 'solver' is set to 'liblinear'. Got 'n_jobs' = 4.\n",
      "  warnings.warn(\"'n_jobs' > 1 does not have any effect when\"\n",
      "E:\\Data Science\\Anaconda\\lib\\site-packages\\sklearn\\linear_model\\_logistic.py:1353: UserWarning: 'n_jobs' > 1 does not have any effect when 'solver' is set to 'liblinear'. Got 'n_jobs' = 4.\n",
      "  warnings.warn(\"'n_jobs' > 1 does not have any effect when\"\n",
      "E:\\Data Science\\Anaconda\\lib\\site-packages\\sklearn\\linear_model\\_logistic.py:1353: UserWarning: 'n_jobs' > 1 does not have any effect when 'solver' is set to 'liblinear'. Got 'n_jobs' = 4.\n",
      "  warnings.warn(\"'n_jobs' > 1 does not have any effect when\"\n",
      "E:\\Data Science\\Anaconda\\lib\\site-packages\\sklearn\\linear_model\\_logistic.py:1353: UserWarning: 'n_jobs' > 1 does not have any effect when 'solver' is set to 'liblinear'. Got 'n_jobs' = 4.\n",
      "  warnings.warn(\"'n_jobs' > 1 does not have any effect when\"\n",
      "E:\\Data Science\\Anaconda\\lib\\site-packages\\sklearn\\linear_model\\_logistic.py:1353: UserWarning: 'n_jobs' > 1 does not have any effect when 'solver' is set to 'liblinear'. Got 'n_jobs' = 4.\n",
      "  warnings.warn(\"'n_jobs' > 1 does not have any effect when\"\n",
      "E:\\Data Science\\Anaconda\\lib\\site-packages\\sklearn\\linear_model\\_logistic.py:1353: UserWarning: 'n_jobs' > 1 does not have any effect when 'solver' is set to 'liblinear'. Got 'n_jobs' = 4.\n",
      "  warnings.warn(\"'n_jobs' > 1 does not have any effect when\"\n",
      "E:\\Data Science\\Anaconda\\lib\\site-packages\\sklearn\\linear_model\\_logistic.py:1353: UserWarning: 'n_jobs' > 1 does not have any effect when 'solver' is set to 'liblinear'. Got 'n_jobs' = 4.\n",
      "  warnings.warn(\"'n_jobs' > 1 does not have any effect when\"\n",
      "E:\\Data Science\\Anaconda\\lib\\site-packages\\sklearn\\linear_model\\_logistic.py:1353: UserWarning: 'n_jobs' > 1 does not have any effect when 'solver' is set to 'liblinear'. Got 'n_jobs' = 4.\n",
      "  warnings.warn(\"'n_jobs' > 1 does not have any effect when\"\n",
      "E:\\Data Science\\Anaconda\\lib\\site-packages\\sklearn\\linear_model\\_logistic.py:1353: UserWarning: 'n_jobs' > 1 does not have any effect when 'solver' is set to 'liblinear'. Got 'n_jobs' = 4.\n",
      "  warnings.warn(\"'n_jobs' > 1 does not have any effect when\"\n",
      "E:\\Data Science\\Anaconda\\lib\\site-packages\\sklearn\\linear_model\\_logistic.py:1353: UserWarning: 'n_jobs' > 1 does not have any effect when 'solver' is set to 'liblinear'. Got 'n_jobs' = 4.\n",
      "  warnings.warn(\"'n_jobs' > 1 does not have any effect when\"\n",
      "E:\\Data Science\\Anaconda\\lib\\site-packages\\sklearn\\linear_model\\_logistic.py:1353: UserWarning: 'n_jobs' > 1 does not have any effect when 'solver' is set to 'liblinear'. Got 'n_jobs' = 4.\n",
      "  warnings.warn(\"'n_jobs' > 1 does not have any effect when\"\n",
      "E:\\Data Science\\Anaconda\\lib\\site-packages\\sklearn\\linear_model\\_logistic.py:1353: UserWarning: 'n_jobs' > 1 does not have any effect when 'solver' is set to 'liblinear'. Got 'n_jobs' = 4.\n",
      "  warnings.warn(\"'n_jobs' > 1 does not have any effect when\"\n",
      "E:\\Data Science\\Anaconda\\lib\\site-packages\\sklearn\\linear_model\\_logistic.py:1353: UserWarning: 'n_jobs' > 1 does not have any effect when 'solver' is set to 'liblinear'. Got 'n_jobs' = 4.\n",
      "  warnings.warn(\"'n_jobs' > 1 does not have any effect when\"\n",
      "E:\\Data Science\\Anaconda\\lib\\site-packages\\sklearn\\linear_model\\_logistic.py:1353: UserWarning: 'n_jobs' > 1 does not have any effect when 'solver' is set to 'liblinear'. Got 'n_jobs' = 4.\n",
      "  warnings.warn(\"'n_jobs' > 1 does not have any effect when\"\n",
      "E:\\Data Science\\Anaconda\\lib\\site-packages\\sklearn\\linear_model\\_logistic.py:1353: UserWarning: 'n_jobs' > 1 does not have any effect when 'solver' is set to 'liblinear'. Got 'n_jobs' = 4.\n",
      "  warnings.warn(\"'n_jobs' > 1 does not have any effect when\"\n",
      "E:\\Data Science\\Anaconda\\lib\\site-packages\\sklearn\\linear_model\\_logistic.py:1353: UserWarning: 'n_jobs' > 1 does not have any effect when 'solver' is set to 'liblinear'. Got 'n_jobs' = 4.\n",
      "  warnings.warn(\"'n_jobs' > 1 does not have any effect when\"\n",
      "E:\\Data Science\\Anaconda\\lib\\site-packages\\sklearn\\linear_model\\_logistic.py:1353: UserWarning: 'n_jobs' > 1 does not have any effect when 'solver' is set to 'liblinear'. Got 'n_jobs' = 4.\n",
      "  warnings.warn(\"'n_jobs' > 1 does not have any effect when\"\n",
      "E:\\Data Science\\Anaconda\\lib\\site-packages\\sklearn\\linear_model\\_logistic.py:1353: UserWarning: 'n_jobs' > 1 does not have any effect when 'solver' is set to 'liblinear'. Got 'n_jobs' = 4.\n",
      "  warnings.warn(\"'n_jobs' > 1 does not have any effect when\"\n",
      "E:\\Data Science\\Anaconda\\lib\\site-packages\\sklearn\\linear_model\\_logistic.py:1353: UserWarning: 'n_jobs' > 1 does not have any effect when 'solver' is set to 'liblinear'. Got 'n_jobs' = 4.\n",
      "  warnings.warn(\"'n_jobs' > 1 does not have any effect when\"\n",
      "E:\\Data Science\\Anaconda\\lib\\site-packages\\sklearn\\linear_model\\_logistic.py:1353: UserWarning: 'n_jobs' > 1 does not have any effect when 'solver' is set to 'liblinear'. Got 'n_jobs' = 4.\n",
      "  warnings.warn(\"'n_jobs' > 1 does not have any effect when\"\n",
      "E:\\Data Science\\Anaconda\\lib\\site-packages\\sklearn\\linear_model\\_logistic.py:1353: UserWarning: 'n_jobs' > 1 does not have any effect when 'solver' is set to 'liblinear'. Got 'n_jobs' = 4.\n",
      "  warnings.warn(\"'n_jobs' > 1 does not have any effect when\"\n",
      "E:\\Data Science\\Anaconda\\lib\\site-packages\\sklearn\\linear_model\\_logistic.py:1353: UserWarning: 'n_jobs' > 1 does not have any effect when 'solver' is set to 'liblinear'. Got 'n_jobs' = 4.\n",
      "  warnings.warn(\"'n_jobs' > 1 does not have any effect when\"\n",
      "E:\\Data Science\\Anaconda\\lib\\site-packages\\sklearn\\linear_model\\_logistic.py:1353: UserWarning: 'n_jobs' > 1 does not have any effect when 'solver' is set to 'liblinear'. Got 'n_jobs' = 4.\n",
      "  warnings.warn(\"'n_jobs' > 1 does not have any effect when\"\n",
      "E:\\Data Science\\Anaconda\\lib\\site-packages\\sklearn\\linear_model\\_logistic.py:1353: UserWarning: 'n_jobs' > 1 does not have any effect when 'solver' is set to 'liblinear'. Got 'n_jobs' = 4.\n",
      "  warnings.warn(\"'n_jobs' > 1 does not have any effect when\"\n",
      "E:\\Data Science\\Anaconda\\lib\\site-packages\\sklearn\\linear_model\\_logistic.py:1353: UserWarning: 'n_jobs' > 1 does not have any effect when 'solver' is set to 'liblinear'. Got 'n_jobs' = 4.\n",
      "  warnings.warn(\"'n_jobs' > 1 does not have any effect when\"\n",
      "E:\\Data Science\\Anaconda\\lib\\site-packages\\sklearn\\linear_model\\_logistic.py:1353: UserWarning: 'n_jobs' > 1 does not have any effect when 'solver' is set to 'liblinear'. Got 'n_jobs' = 4.\n",
      "  warnings.warn(\"'n_jobs' > 1 does not have any effect when\"\n",
      "E:\\Data Science\\Anaconda\\lib\\site-packages\\sklearn\\linear_model\\_logistic.py:1353: UserWarning: 'n_jobs' > 1 does not have any effect when 'solver' is set to 'liblinear'. Got 'n_jobs' = 4.\n",
      "  warnings.warn(\"'n_jobs' > 1 does not have any effect when\"\n",
      "E:\\Data Science\\Anaconda\\lib\\site-packages\\sklearn\\linear_model\\_logistic.py:1353: UserWarning: 'n_jobs' > 1 does not have any effect when 'solver' is set to 'liblinear'. Got 'n_jobs' = 4.\n",
      "  warnings.warn(\"'n_jobs' > 1 does not have any effect when\"\n",
      "E:\\Data Science\\Anaconda\\lib\\site-packages\\sklearn\\linear_model\\_logistic.py:1353: UserWarning: 'n_jobs' > 1 does not have any effect when 'solver' is set to 'liblinear'. Got 'n_jobs' = 4.\n",
      "  warnings.warn(\"'n_jobs' > 1 does not have any effect when\"\n",
      "E:\\Data Science\\Anaconda\\lib\\site-packages\\sklearn\\linear_model\\_logistic.py:1353: UserWarning: 'n_jobs' > 1 does not have any effect when 'solver' is set to 'liblinear'. Got 'n_jobs' = 4.\n",
      "  warnings.warn(\"'n_jobs' > 1 does not have any effect when\"\n",
      "E:\\Data Science\\Anaconda\\lib\\site-packages\\sklearn\\linear_model\\_logistic.py:1353: UserWarning: 'n_jobs' > 1 does not have any effect when 'solver' is set to 'liblinear'. Got 'n_jobs' = 4.\n",
      "  warnings.warn(\"'n_jobs' > 1 does not have any effect when\"\n"
     ]
    },
    {
     "name": "stderr",
     "output_type": "stream",
     "text": [
      "E:\\Data Science\\Anaconda\\lib\\site-packages\\sklearn\\linear_model\\_logistic.py:1353: UserWarning: 'n_jobs' > 1 does not have any effect when 'solver' is set to 'liblinear'. Got 'n_jobs' = 4.\n",
      "  warnings.warn(\"'n_jobs' > 1 does not have any effect when\"\n",
      "E:\\Data Science\\Anaconda\\lib\\site-packages\\sklearn\\linear_model\\_logistic.py:1353: UserWarning: 'n_jobs' > 1 does not have any effect when 'solver' is set to 'liblinear'. Got 'n_jobs' = 4.\n",
      "  warnings.warn(\"'n_jobs' > 1 does not have any effect when\"\n",
      "E:\\Data Science\\Anaconda\\lib\\site-packages\\sklearn\\linear_model\\_logistic.py:1353: UserWarning: 'n_jobs' > 1 does not have any effect when 'solver' is set to 'liblinear'. Got 'n_jobs' = 4.\n",
      "  warnings.warn(\"'n_jobs' > 1 does not have any effect when\"\n",
      "E:\\Data Science\\Anaconda\\lib\\site-packages\\sklearn\\linear_model\\_logistic.py:1353: UserWarning: 'n_jobs' > 1 does not have any effect when 'solver' is set to 'liblinear'. Got 'n_jobs' = 4.\n",
      "  warnings.warn(\"'n_jobs' > 1 does not have any effect when\"\n",
      "E:\\Data Science\\Anaconda\\lib\\site-packages\\sklearn\\linear_model\\_logistic.py:1353: UserWarning: 'n_jobs' > 1 does not have any effect when 'solver' is set to 'liblinear'. Got 'n_jobs' = 4.\n",
      "  warnings.warn(\"'n_jobs' > 1 does not have any effect when\"\n",
      "E:\\Data Science\\Anaconda\\lib\\site-packages\\sklearn\\linear_model\\_logistic.py:1353: UserWarning: 'n_jobs' > 1 does not have any effect when 'solver' is set to 'liblinear'. Got 'n_jobs' = 4.\n",
      "  warnings.warn(\"'n_jobs' > 1 does not have any effect when\"\n",
      "E:\\Data Science\\Anaconda\\lib\\site-packages\\sklearn\\linear_model\\_logistic.py:1353: UserWarning: 'n_jobs' > 1 does not have any effect when 'solver' is set to 'liblinear'. Got 'n_jobs' = 4.\n",
      "  warnings.warn(\"'n_jobs' > 1 does not have any effect when\"\n",
      "E:\\Data Science\\Anaconda\\lib\\site-packages\\sklearn\\linear_model\\_logistic.py:1353: UserWarning: 'n_jobs' > 1 does not have any effect when 'solver' is set to 'liblinear'. Got 'n_jobs' = 4.\n",
      "  warnings.warn(\"'n_jobs' > 1 does not have any effect when\"\n",
      "E:\\Data Science\\Anaconda\\lib\\site-packages\\sklearn\\linear_model\\_logistic.py:1353: UserWarning: 'n_jobs' > 1 does not have any effect when 'solver' is set to 'liblinear'. Got 'n_jobs' = 4.\n",
      "  warnings.warn(\"'n_jobs' > 1 does not have any effect when\"\n",
      "E:\\Data Science\\Anaconda\\lib\\site-packages\\sklearn\\linear_model\\_logistic.py:1353: UserWarning: 'n_jobs' > 1 does not have any effect when 'solver' is set to 'liblinear'. Got 'n_jobs' = 4.\n",
      "  warnings.warn(\"'n_jobs' > 1 does not have any effect when\"\n",
      "E:\\Data Science\\Anaconda\\lib\\site-packages\\sklearn\\linear_model\\_logistic.py:1353: UserWarning: 'n_jobs' > 1 does not have any effect when 'solver' is set to 'liblinear'. Got 'n_jobs' = 4.\n",
      "  warnings.warn(\"'n_jobs' > 1 does not have any effect when\"\n",
      "E:\\Data Science\\Anaconda\\lib\\site-packages\\sklearn\\linear_model\\_logistic.py:1353: UserWarning: 'n_jobs' > 1 does not have any effect when 'solver' is set to 'liblinear'. Got 'n_jobs' = 4.\n",
      "  warnings.warn(\"'n_jobs' > 1 does not have any effect when\"\n",
      "E:\\Data Science\\Anaconda\\lib\\site-packages\\sklearn\\linear_model\\_logistic.py:1353: UserWarning: 'n_jobs' > 1 does not have any effect when 'solver' is set to 'liblinear'. Got 'n_jobs' = 4.\n",
      "  warnings.warn(\"'n_jobs' > 1 does not have any effect when\"\n",
      "E:\\Data Science\\Anaconda\\lib\\site-packages\\sklearn\\linear_model\\_logistic.py:1353: UserWarning: 'n_jobs' > 1 does not have any effect when 'solver' is set to 'liblinear'. Got 'n_jobs' = 4.\n",
      "  warnings.warn(\"'n_jobs' > 1 does not have any effect when\"\n",
      "E:\\Data Science\\Anaconda\\lib\\site-packages\\sklearn\\linear_model\\_logistic.py:1353: UserWarning: 'n_jobs' > 1 does not have any effect when 'solver' is set to 'liblinear'. Got 'n_jobs' = 4.\n",
      "  warnings.warn(\"'n_jobs' > 1 does not have any effect when\"\n",
      "E:\\Data Science\\Anaconda\\lib\\site-packages\\sklearn\\linear_model\\_logistic.py:1353: UserWarning: 'n_jobs' > 1 does not have any effect when 'solver' is set to 'liblinear'. Got 'n_jobs' = 4.\n",
      "  warnings.warn(\"'n_jobs' > 1 does not have any effect when\"\n"
     ]
    },
    {
     "name": "stdout",
     "output_type": "stream",
     "text": [
      "Best: 0.771421 using {'reg__solver': 'liblinear', 'reg__penalty': 'l1', 'reg__C': 0.1}\n",
      "0.771386 (0.012940) with: {'reg__solver': 'liblinear', 'reg__penalty': 'l1', 'reg__C': 100}\n",
      "0.771386 (0.012940) with: {'reg__solver': 'liblinear', 'reg__penalty': 'l2', 'reg__C': 100}\n",
      "0.771386 (0.012940) with: {'reg__solver': 'liblinear', 'reg__penalty': 'l1', 'reg__C': 10}\n",
      "0.771386 (0.012940) with: {'reg__solver': 'liblinear', 'reg__penalty': 'l2', 'reg__C': 10}\n",
      "0.771386 (0.012940) with: {'reg__solver': 'liblinear', 'reg__penalty': 'l1', 'reg__C': 1.0}\n",
      "0.771386 (0.012940) with: {'reg__solver': 'liblinear', 'reg__penalty': 'l2', 'reg__C': 1.0}\n",
      "0.771421 (0.013085) with: {'reg__solver': 'liblinear', 'reg__penalty': 'l1', 'reg__C': 0.1}\n",
      "0.771386 (0.013033) with: {'reg__solver': 'liblinear', 'reg__penalty': 'l2', 'reg__C': 0.1}\n",
      "0.770927 (0.012816) with: {'reg__solver': 'liblinear', 'reg__penalty': 'l1', 'reg__C': 0.01}\n",
      "0.771280 (0.013353) with: {'reg__solver': 'liblinear', 'reg__penalty': 'l2', 'reg__C': 0.01}\n"
     ]
    }
   ],
   "source": [
    "pipe_reg = Pipeline(steps =[('scale', StandardScaler()), ('reg', LogisticRegression(n_jobs = 4)) ])\n",
    "\n",
    "param_grid = {\n",
    "                'reg__solver'   : ['liblinear'],\n",
    "                'reg__penalty' : ['l1', 'l2'],\n",
    "                'reg__C'        : [100, 10, 1.0, 0.1, 0.01]               \n",
    "              }\n",
    "\n",
    "reg_randomgrid = RandomizedSearchCV(pipe_reg, param_distributions = param_grid, cv = 5)\n",
    "\n",
    "reg_result = reg_randomgrid.fit(X_res, y_res)\n",
    "\n",
    "print(\"Best: %f using %s\" % (reg_result.best_score_, reg_result.best_params_))\n",
    "means = reg_result.cv_results_['mean_test_score']\n",
    "stds = reg_result.cv_results_['std_test_score']\n",
    "params = reg_result.cv_results_['params']\n",
    "for mean, stdev, param in zip(means, stds, params):\n",
    "    print(\"%f (%f) with: %r\" % (mean, stdev, param))"
   ]
  },
  {
   "cell_type": "code",
   "execution_count": 49,
   "metadata": {},
   "outputs": [],
   "source": [
    "best_est = reg_randomgrid.best_estimator_"
   ]
  },
  {
   "cell_type": "code",
   "execution_count": 51,
   "metadata": {},
   "outputs": [],
   "source": [
    "result = best_est.predict_proba(test_trans)[:, 1]"
   ]
  },
  {
   "cell_type": "code",
   "execution_count": 52,
   "metadata": {},
   "outputs": [],
   "source": [
    "pd.DataFrame({'id': np.arange(37500), 'a' : result}).to_csv('solution.csv', index=False)"
   ]
  }
 ],
 "metadata": {
  "kernelspec": {
   "display_name": "Python 3",
   "language": "python",
   "name": "python3"
  },
  "language_info": {
   "codemirror_mode": {
    "name": "ipython",
    "version": 3
   },
   "file_extension": ".py",
   "mimetype": "text/x-python",
   "name": "python",
   "nbconvert_exporter": "python",
   "pygments_lexer": "ipython3",
   "version": "3.8.3"
  },
  "varInspector": {
   "cols": {
    "lenName": 16,
    "lenType": 16,
    "lenVar": 40
   },
   "kernels_config": {
    "python": {
     "delete_cmd_postfix": "",
     "delete_cmd_prefix": "del ",
     "library": "var_list.py",
     "varRefreshCmd": "print(var_dic_list())"
    },
    "r": {
     "delete_cmd_postfix": ") ",
     "delete_cmd_prefix": "rm(",
     "library": "var_list.r",
     "varRefreshCmd": "cat(var_dic_list()) "
    }
   },
   "types_to_exclude": [
    "module",
    "function",
    "builtin_function_or_method",
    "instance",
    "_Feature"
   ],
   "window_display": false
  }
 },
 "nbformat": 4,
 "nbformat_minor": 4
}
